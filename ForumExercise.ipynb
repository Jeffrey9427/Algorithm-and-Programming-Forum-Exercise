{
 "cells": [
  {
   "cell_type": "markdown",
   "metadata": {},
   "source": [
    "#1 Write a Python program which accepts the radius of a circle from the user and compute the area1"
   ]
  },
  {
   "cell_type": "code",
   "execution_count": null,
   "metadata": {},
   "outputs": [],
   "source": [
    "radius = eval(input(\"Enter a radius: \"))\n",
    "phi = 22/7\n",
    "area = phi * (radius ** 2)\n",
    "\n",
    "print(f\"Area of the circle is: {area:.2f}\")"
   ]
  },
  {
   "cell_type": "markdown",
   "metadata": {},
   "source": [
    "#2 Write a Python program which accepts the user's first and last name and print them in reverse order with a space between them"
   ]
  },
  {
   "cell_type": "code",
   "execution_count": null,
   "metadata": {},
   "outputs": [],
   "source": [
    "first_name = input(\"Enter your first name: \")\n",
    "last_name = input(\"Enter your last name: \")\n",
    "\n",
    "print(f'Hello {last_name} {first_name}')"
   ]
  },
  {
   "cell_type": "markdown",
   "metadata": {},
   "source": [
    "#3 Write a Python program to display the first and last colors from the following list."
   ]
  },
  {
   "cell_type": "code",
   "execution_count": null,
   "metadata": {},
   "outputs": [],
   "source": [
    "color_list = [\"Red\", \"Green\", \"White\", \"Black\"]\n",
    "\n",
    "print(f\"The first color: {color_list[0]}\")\n",
    "print(f\"The last color: {color_list[-1]}\")"
   ]
  },
  {
   "cell_type": "markdown",
   "metadata": {},
   "source": [
    "#4 Write a Python program that accepts an integer (n) and computes the value of n+nn+nnn."
   ]
  },
  {
   "cell_type": "code",
   "execution_count": null,
   "metadata": {},
   "outputs": [],
   "source": [
    "n = input(\"Input an integer: \")\n",
    "value = int(n) + int(n+n) + int(n+n+n)\n",
    "\n",
    "print(f\"The value of n + nn + nnn is {value}\")"
   ]
  },
  {
   "cell_type": "markdown",
   "metadata": {},
   "source": [
    "#5 Write a Python program to get the volume of a sphere with radius 6. The volume of the sphere is : V = 4/3 × π × r3 = π × d3/6."
   ]
  },
  {
   "cell_type": "code",
   "execution_count": null,
   "metadata": {},
   "outputs": [],
   "source": [
    "radius = 6\n",
    "phi = 22/7\n",
    "volume = 4/3 * phi * radius ** 3\n",
    "\n",
    "print(f\"The volume of a sphere with radius 6: {volume:.2f}\")"
   ]
  },
  {
   "cell_type": "markdown",
   "metadata": {},
   "source": [
    "#6 Write a Python program to get the difference between a given number and 17, if the number is greater than 17 return\n",
    "double the absolute difference."
   ]
  },
  {
   "cell_type": "code",
   "execution_count": null,
   "metadata": {},
   "outputs": [],
   "source": [
    "print(\"Difference between a given number and 17\")\n",
    "num = eval(input(\"Input a number: \"))\n",
    "difference = abs(17-num)\n",
    "\n",
    "if num > 17:\n",
    "    print(f\"The double of the difference is: {2 * difference}\")\n",
    "else:\n",
    "    print(f\"The difference is: {difference}\")"
   ]
  },
  {
   "cell_type": "markdown",
   "metadata": {},
   "source": [
    "#7 Write a Python program to calculate the sum of three given numbers, if the values are equal then return thrice of their sum"
   ]
  },
  {
   "cell_type": "code",
   "execution_count": null,
   "metadata": {},
   "outputs": [],
   "source": [
    "print(\"Enter three numbers\")\n",
    "num1 = eval(input(\"Number 1: \"))\n",
    "num2 = eval(input(\"Number 2: \"))\n",
    "num3 = eval(input(\"Number 3: \"))\n",
    "total = num1 + num2 + num3\n",
    "\n",
    "if num1 == num2 == num3:\n",
    "    print(f\"Sum: {3 * total}\")\n",
    "else:\n",
    "    print(f\"Sum: {total}\")"
   ]
  },
  {
   "cell_type": "markdown",
   "metadata": {},
   "source": [
    "#8 Write a Python program to find whether a given number (accept from the user) is even or odd, print out an appropriate\n",
    "message to the user"
   ]
  },
  {
   "cell_type": "code",
   "execution_count": null,
   "metadata": {},
   "outputs": [],
   "source": [
    "number = int(input(\"Enter a number: \"))\n",
    "\n",
    "if number % 2 == 0: \n",
    "    print(\"It is an even number\")\n",
    "else: \n",
    "    print(\"It is an odd number\")"
   ]
  },
  {
   "cell_type": "markdown",
   "metadata": {},
   "source": [
    "#9 Write a Python program to test whether a letter is a vowel or not."
   ]
  },
  {
   "cell_type": "code",
   "execution_count": null,
   "metadata": {},
   "outputs": [],
   "source": [
    "vowel = [\"a\", \"e\", \"i\", \"o\", \"u\"]\n",
    "letter = input(\"Enter a letter: \")\n",
    "\n",
    "if letter.lower() in vowel:\n",
    "    print(\"It is a vowel\")\n",
    "else:\n",
    "    print(\"It is a consonant\")"
   ]
  },
  {
   "cell_type": "markdown",
   "metadata": {},
   "source": [
    "#10 Write a Python program to check whether a specified value is contained in a group of values."
   ]
  },
  {
   "cell_type": "code",
   "execution_count": null,
   "metadata": {},
   "outputs": [],
   "source": [
    "group_of_values = [\"1\", \"3\", \"ef\", \"jeffrey\", \"7.8\", \"-0.9\"]\n",
    "value = input(\"Enter any random value: \")\n",
    "\n",
    "if value in group_of_values:\n",
    "    print(\"The value is a member of the list\")\n",
    "else:\n",
    "    print(\"The value is not a member of the list\")"
   ]
  },
  {
   "cell_type": "markdown",
   "metadata": {},
   "source": [
    "#11 Write a Python program to create a histogram from a given list of integers."
   ]
  },
  {
   "cell_type": "code",
   "execution_count": null,
   "metadata": {},
   "outputs": [],
   "source": [
    "numbers = [5, 4, 2, 6, 7]\n",
    "\n",
    "for i in numbers:\n",
    "    histogram = '*' * i\n",
    "    print(histogram)"
   ]
  },
  {
   "cell_type": "markdown",
   "metadata": {},
   "source": [
    "#12 Write a Python program to print all even numbers from a given numbers list in the same order."
   ]
  },
  {
   "cell_type": "code",
   "execution_count": null,
   "metadata": {},
   "outputs": [],
   "source": [
    "numbers = [ \n",
    "    386, 462, 47, 418, 907, 344, 236, 375, 823, 566, 597, 978, 328, 615, 953, 345,\n",
    "    399, 162, 758, 219, 918, 237, 412, 566, 826, 248, 866, 950, 626, 949, 687, 217,\n",
    "    815, 67, 104, 58, 512, 24, 892, 894, 767, 553, 81, 379, 843, 831, 445, 742, 717,\n",
    "    958, 743, 527\n",
    "]\n",
    "\n",
    "even_numbers = []\n",
    "for num in numbers:\n",
    "    if num % 2 == 0:\n",
    "        even_numbers.append(num)\n",
    "\n",
    "print(even_numbers)"
   ]
  },
  {
   "cell_type": "markdown",
   "metadata": {},
   "source": [
    "#13 Write a Python program that will accept the base and height of a triangle and compute the area."
   ]
  },
  {
   "cell_type": "code",
   "execution_count": null,
   "metadata": {},
   "outputs": [],
   "source": [
    "base = eval(input(\"Enter the base of a triangle: \"))\n",
    "height = eval(input(\"Enter the height of a triangle: \"))\n",
    "area = base * height / 2 \n",
    "\n",
    "print(f'The area of the triangle is {area:.2f}')"
   ]
  },
  {
   "cell_type": "markdown",
   "metadata": {},
   "source": [
    "#14 Write a Python program to get the least common multiple (LCM) of two positive integers."
   ]
  },
  {
   "cell_type": "code",
   "execution_count": null,
   "metadata": {},
   "outputs": [],
   "source": [
    "print(\"Enter two positive integers\")\n",
    "int1 = int(input(\"Number 1: \"))\n",
    "int2 = int(input(\"Number 2: \"))\n",
    "\n",
    "if int1 > int2:\n",
    "    bigger = int1\n",
    "else:\n",
    "    bigger = int2\n",
    "\n",
    "while True: \n",
    "    if bigger % int1 == 0 and bigger % int2 == 0: \n",
    "        lcm = bigger\n",
    "        break\n",
    "    bigger += 1\n",
    "    \n",
    "print(f\"The LCM of the two positive integers is {lcm}\")"
   ]
  },
  {
   "cell_type": "markdown",
   "metadata": {},
   "source": [
    "#15 Write a Python program to sum of three given integers. However, if two values are equal sum will be zero."
   ]
  },
  {
   "cell_type": "code",
   "execution_count": null,
   "metadata": {},
   "outputs": [],
   "source": [
    "print(\"Enter three integers\")\n",
    "int1 = int(input(\"Number 1: \"))\n",
    "int2 = int(input(\"Number 2: \"))\n",
    "int3 = int(input(\"Number 3: \"))\n",
    "\n",
    "if int1 == int2 or int2 == int3 or int1 == int3:\n",
    "    print(\"Sum = 0\")\n",
    "else: \n",
    "    print(f'Sum = {int1 + int2 + int3}')"
   ]
  },
  {
   "cell_type": "markdown",
   "metadata": {},
   "source": [
    "#16 Write a Python program to solve (x + y) * (x + y)."
   ]
  },
  {
   "cell_type": "code",
   "execution_count": null,
   "metadata": {},
   "outputs": [],
   "source": [
    "x, y = eval(input(\"Enter x and y: \"))\n",
    "print(f'x = {x}, y = {y}')\n",
    "\n",
    "solution = (x+y) ** 2\n",
    "\n",
    "print(f'({x}+{y}) * ({x}+{y}) = {solution}')"
   ]
  },
  {
   "cell_type": "markdown",
   "metadata": {},
   "source": [
    "#17 Write a Python program to compute the future value of a specified principle amount, rate of interest and a number of years"
   ]
  },
  {
   "cell_type": "code",
   "execution_count": null,
   "metadata": {},
   "outputs": [],
   "source": [
    "principal = eval(input(\"Enter the principal amount: \"))\n",
    "interest = eval(input(\"Enter the interest rate: \"))\n",
    "years = eval(input(\"Enter the number of years: \"))\n",
    "print(f'amt = {principal}, int = {interest}, years = {years}')\n",
    "\n",
    "future_value = principal * (1+(interest/100)) ** years\n",
    "\n",
    "print(f\"The future value is {future_value:.2f} \")"
   ]
  },
  {
   "cell_type": "markdown",
   "metadata": {},
   "source": [
    "#18 Write a Python program to compute the distance between the points (x1, y1) and (x2, y2)"
   ]
  },
  {
   "cell_type": "code",
   "execution_count": null,
   "metadata": {},
   "outputs": [],
   "source": [
    "import math\n",
    "\n",
    "x1, y1 = eval(input(\"Enter the x-coordinate and y-coordinate for point1: \"))\n",
    "x2, y2 = eval(input(\"Enter the x-coordinate and y-coordinate for point2: \"))\n",
    "distance = math.sqrt((x2-x1) ** 2 + (y2-y1) ** 2)          # ** .5 \n",
    "\n",
    "print(f'The distance between two points ({x1}, {y1}) and ({x2}, {y2}) is {distance:.3f}')"
   ]
  },
  {
   "cell_type": "markdown",
   "metadata": {},
   "source": [
    "#19 Write a Python program to sum of the first n positive integers "
   ]
  },
  {
   "cell_type": "code",
   "execution_count": null,
   "metadata": {},
   "outputs": [],
   "source": [
    "positive_int = int(input(\"Input a positive integer: \"))\n",
    "total = 0\n",
    "\n",
    "for i in range(1,positive_int+1):\n",
    "    total += i\n",
    "\n",
    "print(f\"The sum of the first n positive integers is {total}\")"
   ]
  },
  {
   "cell_type": "markdown",
   "metadata": {},
   "source": [
    "#20 Write a Python program to convert height (in feet and inches) to centimeters"
   ]
  },
  {
   "cell_type": "code",
   "execution_count": null,
   "metadata": {},
   "outputs": [],
   "source": [
    "print(\"Enter your height\")\n",
    "feet = int(input(\"Feet: \"))\n",
    "inches = int(input(\"Inches: \"))\n",
    "\n",
    "heightInCm = feet*12*2.54 + inches*2.54\n",
    "\n",
    "print(f\"Your Height is {heightInCm} cm\")"
   ]
  },
  {
   "cell_type": "markdown",
   "metadata": {},
   "source": [
    "#21 Write a Python program to calculate the hypotenuse of a right angled triangle"
   ]
  },
  {
   "cell_type": "code",
   "execution_count": null,
   "metadata": {},
   "outputs": [],
   "source": [
    "import math\n",
    "\n",
    "print(\"Enter two sides of a right angled triangle\")\n",
    "side1 = eval(input(\"Side 1: \"))\n",
    "side2 = eval(input(\"Side 2: \"))\n",
    "hypotenusa = math.sqrt(side1**2 + side2**2)                # we can use math.sqrt function          \n",
    "\n",
    "print(f\"The hypotenusa of the triangle is {hypotenusa:.3f}\")"
   ]
  },
  {
   "cell_type": "markdown",
   "metadata": {},
   "source": [
    "#22 Write a Python program to calculate body mass index"
   ]
  },
  {
   "cell_type": "code",
   "execution_count": null,
   "metadata": {},
   "outputs": [],
   "source": [
    "print(\"Enter your weight in kg and height in m\")\n",
    "weight = eval(input(\"Weight (in kg): \"))\n",
    "height = eval(input(\"Height (in m): \"))\n",
    "bmi = weight / height ** 2\n",
    "\n",
    "print(f\"Your body mass index (BMI) is {bmi:.3f}\")"
   ]
  },
  {
   "cell_type": "markdown",
   "metadata": {},
   "source": [
    "#23 Write a Python program to calculate midpoints of a line"
   ]
  },
  {
   "cell_type": "code",
   "execution_count": null,
   "metadata": {},
   "outputs": [],
   "source": [
    "print(\"Calculate the midpoint of a line\")\n",
    "\n",
    "x1, y1 = eval(input(\"The value of x and y for the first endpoint: \"))\n",
    "x2, y2 = eval(input(\"The value of x and y for the second endpoints: \"))\n",
    "x_mid_point = (x1 + x2) / 2\n",
    "y_mid_point = (y1 + y2) / 2\n",
    "\n",
    "print(\"The midpoint of line is: \")\n",
    "print(f\"The midpoint's x value is: {x_mid_point:.2f}\")\n",
    "print(f\"The midpoint's y value is: {y_mid_point:.2f}\")"
   ]
  },
  {
   "cell_type": "markdown",
   "metadata": {},
   "source": [
    "#24 Write a program which will find all such numbers which are divisible by 7 but are not a multiple of 5, between 2000 and\n",
    "3200 (both included). The numbers obtained should be printed in a comma-separated sequence on a single line. \n",
    "Consider use range(#begin, #end) method"
   ]
  },
  {
   "cell_type": "code",
   "execution_count": null,
   "metadata": {},
   "outputs": [],
   "source": [
    "lists = []\n",
    "for i in range(2000,3201): \n",
    "    if i % 7 == 0 and i % 5 != 0:\n",
    "        lists.append(str(i))\n",
    "\n",
    "print(','.join(lists))      # join function makes it become into one string and then separate each element of the string with a comma"
   ]
  }
 ],
 "metadata": {
  "kernelspec": {
   "display_name": "Python 3.10.6 64-bit",
   "language": "python",
   "name": "python3"
  },
  "language_info": {
   "codemirror_mode": {
    "name": "ipython",
    "version": 3
   },
   "file_extension": ".py",
   "mimetype": "text/x-python",
   "name": "python",
   "nbconvert_exporter": "python",
   "pygments_lexer": "ipython3",
   "version": "3.10.6"
  },
  "orig_nbformat": 4,
  "vscode": {
   "interpreter": {
    "hash": "aee8b7b246df8f9039afb4144a1f6fd8d2ca17a180786b69acc140d282b71a49"
   }
  }
 },
 "nbformat": 4,
 "nbformat_minor": 2
}
