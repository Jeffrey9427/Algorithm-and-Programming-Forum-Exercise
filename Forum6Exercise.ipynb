{
 "cells": [
  {
   "cell_type": "markdown",
   "metadata": {},
   "source": [
    "MCQ Dictionary Answers"
   ]
  },
  {
   "cell_type": "markdown",
   "metadata": {},
   "source": [
    "1. B\n",
    "2. D\n",
    "3. A\n",
    "4. B\n",
    "5. D\n",
    "6, C\n",
    "7. A\n",
    "8. C\n",
    "9. B"
   ]
  },
  {
   "cell_type": "markdown",
   "metadata": {},
   "source": [
    "Programming Exercise Forum Week 6"
   ]
  },
  {
   "cell_type": "markdown",
   "metadata": {},
   "source": [
    "Exercise 1"
   ]
  },
  {
   "cell_type": "code",
   "execution_count": 1,
   "metadata": {},
   "outputs": [
    {
     "name": "stdout",
     "output_type": "stream",
     "text": [
      "{'gold': 550, 'pouch': ['flint', 'twine', 'gemstone'], 'backpack': ['bedroll', 'bread loaf', 'xylophone'], 'pocket': ['seashell', 'strange berry', 'lint']}\n"
     ]
    }
   ],
   "source": [
    "inventory = {\n",
    "'gold' : 500,\n",
    "'pouch' : ['flint', 'twine', 'gemstone'],\n",
    "'backpack' : ['xylophone','dagger', 'bedroll','bread loaf']\n",
    "}\n",
    "\n",
    "inventory['pocket'] = ['seashell', 'strange berry', 'lint']         # add new key 'pocket' and set the value of the key to be a list\n",
    "inventory['backpack'].sort()                                        # sort items in the list stored under the backpack key\n",
    "inventory['backpack'].remove('dagger')                              # remove dagger from the list of items stored under backpack key\n",
    "inventory['gold'] += 50                                             # add 50 to the number stored under the gold key\n",
    "\n",
    "print(inventory)"
   ]
  },
  {
   "cell_type": "markdown",
   "metadata": {},
   "source": [
    "Exercise 2"
   ]
  },
  {
   "cell_type": "code",
   "execution_count": 10,
   "metadata": {},
   "outputs": [
    {
     "name": "stdout",
     "output_type": "stream",
     "text": [
      "banana \n",
      "price: 4 \n",
      "stock: 15\n",
      "\n",
      "apple \n",
      "price: 2 \n",
      "stock: 7\n",
      "\n",
      "orange \n",
      "price: 1.5 \n",
      "stock: 10\n",
      "\n",
      "pear \n",
      "price: 3 \n",
      "stock: 3\n",
      "\n",
      "The total money gained from banana is 60\n",
      "The total money gained from apple is 14\n",
      "The total money gained from orange is 15.0\n",
      "The total money gained from pear is 9\n",
      "The total money gained from all fruit is 98.0\n"
     ]
    }
   ],
   "source": [
    "prices = {                                                     # create prices dictionary\n",
    "    \"banana\": 4,\n",
    "    \"apple\": 2, \n",
    "    \"orange\": 1.5, \n",
    "    \"pear\": 3\n",
    "}\n",
    "\n",
    "stock = {                                                      # create stock dictionary for stock information\n",
    "    \"banana\": 15,\n",
    "    \"apple\": 7,\n",
    "    \"orange\": 10,\n",
    "    \"pear\": 3\n",
    "}\n",
    "\n",
    "for fruit in prices:                                            # loop through key in prices and print the key along with its price and stock\n",
    "    print(f'{fruit} \\nprice: {prices[fruit]} \\nstock: {stock[fruit]}\\n')\n",
    "\n",
    "total = 0 \n",
    "for fruit in prices:                                            # loop through key in prices \n",
    "    totalPrice = prices[fruit] * stock[fruit]                   # multiply the number in pieces by the number in stock\n",
    "    print(f\"The total money gained from {fruit} is {totalPrice}\")                                        \n",
    "    total += totalPrice                                         # add to total\n",
    "\n",
    "print(f\"The total money gained from all fruit is {total}\")"
   ]
  },
  {
   "cell_type": "markdown",
   "metadata": {},
   "source": [
    "Exercise 3 "
   ]
  },
  {
   "cell_type": "code",
   "execution_count": 4,
   "metadata": {},
   "outputs": [
    {
     "name": "stdout",
     "output_type": "stream",
     "text": [
      "Total: 24\n"
     ]
    }
   ],
   "source": [
    "groceries = ['banana', 'banana','banana','banana','banana','banana','banana']           # make a list of grocery called groceries \n",
    "\n",
    "stock = { \n",
    "    \"banana\": 6, \n",
    "    \"apple\": 0, \n",
    "    \"orange\": 32, \n",
    "    \"pear\": 15\n",
    "}\n",
    "\n",
    "prices = { \n",
    "    \"banana\": 4, \n",
    "    \"apple\": 2, \n",
    "    \"orange\": 1.5, \n",
    "    \"pear\": 3\n",
    "}\n",
    "\n",
    "def compute_bill(food):                             # define a function compute_bill that takes one argument food as input\n",
    "    total = 0\n",
    "    for item in food:                               # for each item in the food list, add the price of that item to total\n",
    "        if stock[item] > 0:                         # only add the price of the item to total if the item's stock count is greater than 0\n",
    "            total += prices[item]                  \n",
    "            stock[item] -= 1                        # substract one from the item's stock count after adding the price to the total\n",
    "    return total                                    # return total\n",
    "\n",
    "bill = compute_bill(groceries)\n",
    "print(f'Total: {bill}')"
   ]
  },
  {
   "cell_type": "markdown",
   "metadata": {},
   "source": [
    "Exercise 4"
   ]
  },
  {
   "cell_type": "code",
   "execution_count": 11,
   "metadata": {},
   "outputs": [
    {
     "name": "stdout",
     "output_type": "stream",
     "text": [
      "Name : Eren\n",
      "Homework : [90.0, 97.0, 75.0, 92.0]\n",
      "Quizzes : [88.0, 40.0, 94.0]\n",
      "Tests : [75.0, 90.0]\n",
      "\n",
      "\n",
      "Name : Mikasa\n",
      "Homework : [100.0, 92.0, 98.0, 100.0]\n",
      "Quizzes : [82.0, 83.0, 91.0]\n",
      "Tests : [89.0, 97.0]\n",
      "\n",
      "\n",
      "Name : Armin\n",
      "Homework : [0.0, 87.0, 75.0, 22.0]\n",
      "Quizzes : [0.0, 75.0, 78.0]\n",
      "Tests : [100.0, 100.0]\n",
      "\n",
      "\n",
      "The letter grade for armin is: C\n",
      "The class average : 83.86666666666666\n",
      "The class average letter grade : B \n"
     ]
    }
   ],
   "source": [
    "eren = {\n",
    "    \"name\": \"Eren\",\n",
    "    \"homework\": [90.0,97.0,75.0,92.0], \n",
    "    \"quizzes\": [88.0,40.0,94.0],\n",
    "    \"tests\": [75.0,90.0]\n",
    "}\n",
    "\n",
    "mikasa = {\n",
    "    \"name\": \"Mikasa\",\n",
    "    \"homework\": [100.0, 92.0, 98.0, 100.0], \n",
    "    \"quizzes\": [82.0, 83.0, 91.0],\n",
    "    \"tests\": [89.0, 97.0]\n",
    "}\n",
    "\n",
    "armin = {\n",
    "    \"name\": \"Armin\",\n",
    "    \"homework\": [0.0, 87.0, 75.0, 22.0], \n",
    "    \"quizzes\": [0.0, 75.0, 78.0],\n",
    "    \"tests\": [100.0, 100.0]\n",
    "}\n",
    "\n",
    "students = [eren, mikasa, armin]\n",
    "\n",
    "for student in students: \n",
    "    for key, value in student.items():\n",
    "        print(f\"{key.title()} : {value}\")\n",
    "    print(\"\\n\")\n",
    "    \n",
    "def average(numbers):\n",
    "    total = float(sum(numbers))\n",
    "    avg = total / len(numbers)\n",
    "    return avg\n",
    "\n",
    "def get_average(student):\n",
    "    homework = average(student[\"homework\"])\n",
    "    quizzes = average(student[\"quizzes\"])\n",
    "    tests = average(student[\"tests\"])\n",
    "    total = (homework*0.1 + quizzes*0.3 + tests*0.6)\n",
    "    return total\n",
    "\n",
    "def get_letter_grade(score):\n",
    "    if score >= 90: \n",
    "        return \"A\"\n",
    "    elif score >= 80:\n",
    "        return \"B\"\n",
    "    elif score >= 70:\n",
    "        return \"C\"\n",
    "    elif score >= 60: \n",
    "        return \"D\"\n",
    "    else: \n",
    "        return \"F\"\n",
    "    \n",
    "print(f\"The letter grade for armin is: {get_letter_grade(get_average(armin))}\") \n",
    "\n",
    "def get_class_average(students):\n",
    "    results = []\n",
    "    for student in students:\n",
    "        results.append(get_average(student))\n",
    "    return average(results)\n",
    "\n",
    "print(f\"The class average : {get_class_average(students)}\")\n",
    "print(f\"The class average letter grade : {get_letter_grade(get_class_average(students))} \")"
   ]
  }
 ],
 "metadata": {
  "kernelspec": {
   "display_name": "Python 3.10.6 64-bit",
   "language": "python",
   "name": "python3"
  },
  "language_info": {
   "codemirror_mode": {
    "name": "ipython",
    "version": 3
   },
   "file_extension": ".py",
   "mimetype": "text/x-python",
   "name": "python",
   "nbconvert_exporter": "python",
   "pygments_lexer": "ipython3",
   "version": "3.10.6"
  },
  "orig_nbformat": 4,
  "vscode": {
   "interpreter": {
    "hash": "aee8b7b246df8f9039afb4144a1f6fd8d2ca17a180786b69acc140d282b71a49"
   }
  }
 },
 "nbformat": 4,
 "nbformat_minor": 2
}
